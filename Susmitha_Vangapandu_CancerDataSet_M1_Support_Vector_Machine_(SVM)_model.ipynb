{
  "cells": [
    {
      "cell_type": "code",
      "execution_count": 1,
      "metadata": {
        "colab": {
          "base_uri": "https://localhost:8080/"
        },
        "id": "cmwseN_pGPGg",
        "outputId": "eacb2cac-ce42-47f9-b77b-dd3ee65955d4"
      },
      "outputs": [
        {
          "name": "stdout",
          "output_type": "stream",
          "text": [
            "Accuracy: 0.9473684210526315\n",
            "Classification Report:\n",
            "               precision    recall  f1-score   support\n",
            "\n",
            "           B       0.92      1.00      0.96        71\n",
            "           M       1.00      0.86      0.92        43\n",
            "\n",
            "    accuracy                           0.95       114\n",
            "   macro avg       0.96      0.93      0.94       114\n",
            "weighted avg       0.95      0.95      0.95       114\n",
            "\n"
          ]
        }
      ],
      "source": [
        "# Importing the necessary libraries\n",
        "import pandas as pd\n",
        "from sklearn.model_selection import train_test_split\n",
        "from sklearn.svm import SVC\n",
        "from sklearn.metrics import accuracy_score, classification_report\n",
        "\n",
        "# Load the dataset\n",
        "url = 'https://archive.ics.uci.edu/ml/machine-learning-databases/breast-cancer-wisconsin/wdbc.data'\n",
        "names = ['id', 'diagnosis', 'radius_mean', 'texture_mean', 'perimeter_mean', 'area_mean',\n",
        "         'smoothness_mean', 'compactness_mean', 'concavity_mean', 'concave_points_mean',\n",
        "         'symmetry_mean', 'fractal_dimension_mean', 'radius_se', 'texture_se', 'perimeter_se',\n",
        "         'area_se', 'smoothness_se', 'compactness_se', 'concavity_se', 'concave_points_se',\n",
        "         'symmetry_se', 'fractal_dimension_se', 'radius_worst', 'texture_worst', 'perimeter_worst',\n",
        "         'area_worst', 'smoothness_worst', 'compactness_worst', 'concavity_worst',\n",
        "         'concave_points_worst', 'symmetry_worst', 'fractal_dimension_worst']\n",
        "data = pd.read_csv(url, names=names)\n",
        "\n",
        "# Preprocessing the data\n",
        "X = data.iloc[:, 2:]  # Features\n",
        "y = data['diagnosis']  # Target variable\n",
        "X_train, X_test, y_train, y_test = train_test_split(X, y, test_size=0.2, random_state=42)\n",
        "\n",
        "# Build the SVM model\n",
        "model = SVC()\n",
        "model.fit(X_train, y_train)\n",
        "\n",
        "# Make predictions on the test set\n",
        "y_pred = model.predict(X_test)\n",
        "\n",
        "# Evaluate the model\n",
        "accuracy = accuracy_score(y_test, y_pred)\n",
        "report = classification_report(y_test, y_pred)\n",
        "print(\"Accuracy:\", accuracy)\n",
        "print(\"Classification Report:\\n\", report)\n"
      ]
    },
    {
      "attachments": {},
      "cell_type": "markdown",
      "metadata": {},
      "source": [
        "#This line is added to show implemented functionality "
      ]
    }
  ],
  "metadata": {
    "colab": {
      "provenance": []
    },
    "kernelspec": {
      "display_name": "Python 3",
      "name": "python3"
    },
    "language_info": {
      "name": "python"
    }
  },
  "nbformat": 4,
  "nbformat_minor": 0
}
